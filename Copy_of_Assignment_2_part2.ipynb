{
  "nbformat": 4,
  "nbformat_minor": 0,
  "metadata": {
    "colab": {
      "name": "Copy of Assignment 2 part2.ipynb",
      "provenance": [],
      "include_colab_link": true
    },
    "kernelspec": {
      "name": "python3",
      "display_name": "Python 3"
    }
  },
  "cells": [
    {
      "cell_type": "markdown",
      "metadata": {
        "id": "view-in-github",
        "colab_type": "text"
      },
      "source": [
        "<a href=\"https://colab.research.google.com/github/sohailasadek/Machine-Learning-Training/blob/main/Copy_of_Assignment_2_part2.ipynb\" target=\"_parent\"><img src=\"https://colab.research.google.com/assets/colab-badge.svg\" alt=\"Open In Colab\"/></a>"
      ]
    },
    {
      "cell_type": "markdown",
      "metadata": {
        "id": "c2sSEq3uSurn"
      },
      "source": [
        "# Files and Exceptions"
      ]
    },
    {
      "cell_type": "code",
      "metadata": {
        "id": "TIYWFG6Qi9y_",
        "colab": {
          "base_uri": "https://localhost:8080/"
        },
        "outputId": "b5e84ef5-723b-48f3-8c2a-23fcf1bb8c34"
      },
      "source": [
        "from google.colab import drive\n",
        "drive.mount('/content/drive')"
      ],
      "execution_count": 1,
      "outputs": [
        {
          "output_type": "stream",
          "text": [
            "Mounted at /content/drive\n"
          ],
          "name": "stdout"
        }
      ]
    },
    {
      "cell_type": "markdown",
      "metadata": {
        "id": "qw2XyRs-TWIF"
      },
      "source": [
        "**8. Sum of Numbers** <br>\n",
        "Assume that a file containing a series of integers is named numbers.txt and exists on the Drive. Write a program that reads all of the numbers stored in the file and calculates their total.\n",
        "\n",
        "Find file here: <br>\n",
        "https://drive.google.com/file/d/1GaOURA7jp0NLvfaOfl4cCClKK_pv3q0r/view?usp=sharing"
      ]
    },
    {
      "cell_type": "markdown",
      "metadata": {
        "id": "fyBrE-kcMjqI"
      },
      "source": [
        "# New Section"
      ]
    },
    {
      "cell_type": "code",
      "metadata": {
        "id": "92EStR9KSu8N",
        "colab": {
          "base_uri": "https://localhost:8080/"
        },
        "outputId": "c229803b-5a06-497e-c018-d030ac9d13d8"
      },
      "source": [
        "def main():\n",
        "  num_file = open('/content/drive/MyDrive/numbers.txt', 'r')\n",
        "\n",
        "  total = 0.0\n",
        "  count = 0\n",
        "  for line in  num_file:\n",
        "      run_time = float(line)\n",
        "      #print(run_time)\n",
        "      total += run_time  # total = total+ runtime\n",
        "      \n",
        "  num_file.close()\n",
        "  print('Total',total)\n",
        "\n",
        "\n",
        "main()"
      ],
      "execution_count": 6,
      "outputs": [
        {
          "output_type": "stream",
          "text": [
            "Total 124747226.0\n"
          ],
          "name": "stdout"
        }
      ]
    },
    {
      "cell_type": "code",
      "metadata": {
        "id": "B7GImG_lSu-u"
      },
      "source": [
        ""
      ],
      "execution_count": null,
      "outputs": []
    },
    {
      "cell_type": "markdown",
      "metadata": {
        "id": "gW0mWcdDVgK4"
      },
      "source": [
        "**9. Average of Numbers** <br>\n",
        "Assume that a file containing a series of integers is named numbers.txt and exists on the Drive. Write a program that calculates the average of all the numbers stored in\n",
        "the file"
      ]
    },
    {
      "cell_type": "code",
      "metadata": {
        "colab": {
          "base_uri": "https://localhost:8080/"
        },
        "id": "089Xatjt7FMA",
        "outputId": "f97fe2f1-7be6-4256-abec-e5a96c64b798"
      },
      "source": [
        "def main():\n",
        "  num_file = open('/content/drive/MyDrive/numbers.txt', 'r')\n",
        "\n",
        "  total = 0.0\n",
        "  count = 0\n",
        "  \n",
        "  for line in  num_file:\n",
        "      run_time = float(line)\n",
        "      #print(run_time)\n",
        "      total += run_time\n",
        "      count += 1\n",
        "\n",
        "  print(count)    \n",
        "  num_file.close()\n",
        "  print('Total',total/count)\n",
        "\n",
        "\n",
        "main()"
      ],
      "execution_count": 11,
      "outputs": [
        {
          "output_type": "stream",
          "text": [
            "58\n",
            "Total 102267008.86206897\n"
          ],
          "name": "stdout"
        }
      ]
    },
    {
      "cell_type": "markdown",
      "metadata": {
        "id": "vjchCYETVwPx"
      },
      "source": [
        "**10. Random Number File Writer**<br>\n",
        "Write a program that writes a series of random numbers to a file. Each random number should be in the range of 1 \n",
        "through 500. The application should let the user specify how\n",
        "many random numbers the file will hold.\n"
      ]
    },
    {
      "cell_type": "code",
      "metadata": {
        "id": "DCyba_BZVxLF",
        "colab": {
          "base_uri": "https://localhost:8080/"
        },
        "outputId": "bf9d3036-af32-4ecc-a782-27a32328b183"
      },
      "source": [
        "import random\n",
        "\n",
        "def main():\n",
        "  \n",
        "  num_random = int(input('how many numbers'))\n",
        " \n",
        "  num_file = open('num.txt', 'w')\n",
        "\n",
        "\n",
        "  for count in range(1, num_random + 1):\n",
        "    \n",
        "    num = random.randint(1,500)\n",
        "\n",
        "    \n",
        "    num_file.write(str(num) + '\\n')\n",
        "\n",
        "\n",
        "  num_file.close()\n",
        "  print('Data written to num.txt.')\n",
        "\n",
        "main()"
      ],
      "execution_count": 16,
      "outputs": [
        {
          "output_type": "stream",
          "text": [
            "how many numbers3\n",
            "Data written to num.txt.\n"
          ],
          "name": "stdout"
        }
      ]
    },
    {
      "cell_type": "code",
      "metadata": {
        "id": "uZ7CQJM0VxN5"
      },
      "source": [
        ""
      ],
      "execution_count": null,
      "outputs": []
    },
    {
      "cell_type": "markdown",
      "metadata": {
        "id": "p75ZKqbXWMdY"
      },
      "source": [
        "**11.  Exception Handing** <br>\n",
        "Modify the program that you wrote for Exercise 9 so it handles the following exceptions: <br>\n",
        "* It should handle any IOError exceptions that are raised when the file is opened and data\n",
        "is read from it. <br>\n",
        "* It should handle any ValueError exceptions that are raised when the items that are read from the file are converted to a number."
      ]
    },
    {
      "cell_type": "code",
      "metadata": {
        "id": "22SOHQbrVxRE",
        "colab": {
          "base_uri": "https://localhost:8080/"
        },
        "outputId": "79933108-cb61-4931-9b0c-c3495790ad06"
      },
      "source": [
        "\n",
        "def main():\n",
        "  total = 0.0\n",
        "\n",
        "  try: \n",
        "    num_file = open('/content/drive/MyDrive/Tutorial 2.pdf', 'r')\n",
        "\n",
        "    total = 0.0\n",
        "    count = 0\n",
        "    \n",
        "    for line in  num_file:\n",
        "        run_time = float(line)\n",
        "        #print(run_time)\n",
        "        total += run_time\n",
        "        count += 1\n",
        "\n",
        "    print(count)    \n",
        "    num_file.close()\n",
        "    print('Total',total/count)\n",
        "\n",
        "\n",
        "  except IOError:\n",
        "    print('An error occured trying to read the file.')\n",
        "\n",
        "  except ValueError:\n",
        "    print('Non-numeric data found in the file.')\n",
        "\n",
        "\n",
        "main()"
      ],
      "execution_count": 23,
      "outputs": [
        {
          "output_type": "stream",
          "text": [
            "Non-numeric data found in the file.\n"
          ],
          "name": "stdout"
        }
      ]
    },
    {
      "cell_type": "code",
      "metadata": {
        "id": "3p0MENR_WrBV"
      },
      "source": [
        ""
      ],
      "execution_count": null,
      "outputs": []
    }
  ]
}