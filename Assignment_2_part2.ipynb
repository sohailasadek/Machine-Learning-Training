{
  "nbformat": 4,
  "nbformat_minor": 0,
  "metadata": {
    "colab": {
      "name": "Assignment 2 part2",
      "provenance": [],
      "include_colab_link": true
    },
    "kernelspec": {
      "name": "python3",
      "display_name": "Python 3"
    }
  },
  "cells": [
    {
      "cell_type": "markdown",
      "metadata": {
        "id": "view-in-github",
        "colab_type": "text"
      },
      "source": [
        "<a href=\"https://colab.research.google.com/github/sohailasadek/Machine-Learning-Training/blob/main/Assignment_2_part2.ipynb\" target=\"_parent\"><img src=\"https://colab.research.google.com/assets/colab-badge.svg\" alt=\"Open In Colab\"/></a>"
      ]
    },
    {
      "cell_type": "markdown",
      "metadata": {
        "id": "c2sSEq3uSurn"
      },
      "source": [
        "# Files and Exceptions"
      ]
    },
    {
      "cell_type": "code",
      "metadata": {
        "id": "TIYWFG6Qi9y_"
      },
      "source": [
        "from google.colab import drive\n",
        "drive.mount('/content/drive')"
      ],
      "execution_count": null,
      "outputs": []
    },
    {
      "cell_type": "code",
      "metadata": {
        "id": "VppOUgyU_Auv",
        "colab": {
          "base_uri": "https://localhost:8080/"
        },
        "outputId": "7fbb9166-82fa-42a1-cff8-c0b6809e8541"
      },
      "source": [
        "from google.colab import drive \n",
        "drive.mount(\"/content/gdrive\")\n",
        "\n",
        "\n",
        "\n",
        "\n"
      ],
      "execution_count": 7,
      "outputs": [
        {
          "output_type": "stream",
          "text": [
            "Mounted at /content/gdrive\n"
          ],
          "name": "stdout"
        }
      ]
    },
    {
      "cell_type": "markdown",
      "metadata": {
        "id": "qw2XyRs-TWIF"
      },
      "source": [
        "**8. Sum of Numbers** <br>\n",
        "Assume that a file containing a series of integers is named numbers.txt and exists on the Drive. Write a program that reads all of the numbers stored in the file and calculates their total.\n",
        "\n",
        "Find file here: <br>\n",
        "https://drive.google.com/file/d/1GaOURA7jp0NLvfaOfl4cCClKK_pv3q0r/view?usp=sharing"
      ]
    },
    {
      "cell_type": "markdown",
      "metadata": {
        "id": "fyBrE-kcMjqI"
      },
      "source": [
        "# New Section"
      ]
    },
    {
      "cell_type": "code",
      "metadata": {
        "id": "92EStR9KSu8N",
        "colab": {
          "base_uri": "https://localhost:8080/"
        },
        "outputId": "6fdeeb2e-ee85-42ca-e3b5-af2ed7b4b31d"
      },
      "source": [
        "def main():\n",
        "  num_file = open('/content/gdrive/MyDrive/numbers.txt', 'r')\n",
        "\n",
        "  total = 0.0\n",
        "  count = 0\n",
        "  for line in  num_file:\n",
        "      run_time = float(line)\n",
        "      print(run_time)\n",
        "      total= + run_time\n",
        "      \n",
        "#num_file.close()\n",
        "      print('Total',total)\n",
        "\n",
        "\n",
        "main()"
      ],
      "execution_count": 109,
      "outputs": [
        {
          "output_type": "stream",
          "text": [
            "86850343.0\n",
            "Total 86850343.0\n",
            "88065952.0\n",
            "Total 88065952.0\n",
            "89381968.0\n",
            "Total 89381968.0\n",
            "89536251.0\n",
            "Total 89536251.0\n",
            "89714939.0\n",
            "Total 89714939.0\n",
            "89826424.0\n",
            "Total 89826424.0\n",
            "90124775.0\n",
            "Total 90124775.0\n",
            "90672109.0\n",
            "Total 90672109.0\n",
            "91408453.0\n",
            "Total 91408453.0\n",
            "92438737.0\n",
            "Total 92438737.0\n",
            "93361277.0\n",
            "Total 93361277.0\n",
            "93890243.0\n",
            "Total 93890243.0\n",
            "94372638.0\n",
            "Total 94372638.0\n",
            "94759578.0\n",
            "Total 94759578.0\n",
            "95079649.0\n",
            "Total 95079649.0\n",
            "95439651.0\n",
            "Total 95439651.0\n",
            "95611217.0\n",
            "Total 95611217.0\n",
            "95980818.0\n",
            "Total 95980818.0\n",
            "96336673.0\n",
            "Total 96336673.0\n",
            "96581524.0\n",
            "Total 96581524.0\n",
            "97041824.0\n",
            "Total 97041824.0\n",
            "97379048.0\n",
            "Total 97379048.0\n",
            "97672500.0\n",
            "Total 97672500.0\n",
            "98066518.0\n",
            "Total 98066518.0\n",
            "98479598.0\n",
            "Total 98479598.0\n",
            "98934553.0\n",
            "Total 98934553.0\n",
            "99246321.0\n",
            "Total 99246321.0\n",
            "99431136.0\n",
            "Total 99431136.0\n",
            "99835823.0\n",
            "Total 99835823.0\n",
            "100049946.0\n",
            "Total 100049946.0\n",
            "100234498.0\n",
            "Total 100234498.0\n",
            "100568960.0\n",
            "Total 100568960.0\n",
            "100806870.0\n",
            "Total 100806870.0\n",
            "101097750.0\n",
            "Total 101097750.0\n",
            "101820859.0\n",
            "Total 101820859.0\n",
            "102455417.0\n",
            "Total 102455417.0\n",
            "103013163.0\n",
            "Total 103013163.0\n",
            "103523365.0\n",
            "Total 103523365.0\n",
            "104177442.0\n",
            "Total 104177442.0\n",
            "104757015.0\n",
            "Total 104757015.0\n",
            "105145703.0\n",
            "Total 105145703.0\n",
            "105694237.0\n",
            "Total 105694237.0\n",
            "106140898.0\n",
            "Total 106140898.0\n",
            "107246430.0\n",
            "Total 107246430.0\n",
            "109272544.0\n",
            "Total 109272544.0\n",
            "111539027.0\n",
            "Total 111539027.0\n",
            "112522852.0\n",
            "Total 112522852.0\n",
            "113783213.0\n",
            "Total 113783213.0\n",
            "114620610.0\n",
            "Total 114620610.0\n",
            "116036567.0\n",
            "Total 116036567.0\n",
            "117421727.0\n",
            "Total 117421727.0\n",
            "119134533.0\n",
            "Total 119134533.0\n",
            "120378586.0\n",
            "Total 120378586.0\n",
            "121554027.0\n",
            "Total 121554027.0\n",
            "121817833.0\n",
            "Total 121817833.0\n",
            "122730767.0\n",
            "Total 122730767.0\n",
            "123673909.0\n",
            "Total 123673909.0\n",
            "124747226.0\n",
            "Total 124747226.0\n"
          ],
          "name": "stdout"
        }
      ]
    },
    {
      "cell_type": "code",
      "metadata": {
        "id": "B7GImG_lSu-u"
      },
      "source": [
        ""
      ],
      "execution_count": null,
      "outputs": []
    },
    {
      "cell_type": "markdown",
      "metadata": {
        "id": "gW0mWcdDVgK4"
      },
      "source": [
        "**9. Average of Numbers** <br>\n",
        "Assume that a file containing a series of integers is named numbers.txt and exists on the Drive. Write a program that calculates the average of all the numbers stored in\n",
        "the file"
      ]
    },
    {
      "cell_type": "code",
      "metadata": {
        "id": "3-DZx-vnSvCe",
        "colab": {
          "base_uri": "https://localhost:8080/",
          "height": 197
        },
        "outputId": "9977fb75-958b-4795-c16b-5c65d8c8ef40"
      },
      "source": [
        "def main():\n",
        "  num_file = open('/content/gdrive/MyDrive/numbers.txt', 'r')\n",
        " \n",
        "  Total = 0.0\n",
        "  count = 0\n",
        "  for line in  num_file:\n",
        "      run_time = float(line)\n",
        "      print(run_time)\n",
        "      \n",
        "  Total= + run_time \n",
        "  count=+1\n",
        "  num_file.close()\n",
        "\n",
        "print('Average',total/count) "
      ],
      "execution_count": 153,
      "outputs": [
        {
          "output_type": "error",
          "ename": "NameError",
          "evalue": "ignored",
          "traceback": [
            "\u001b[0;31m---------------------------------------------------------------------------\u001b[0m",
            "\u001b[0;31mNameError\u001b[0m                                 Traceback (most recent call last)",
            "\u001b[0;32m<ipython-input-153-362f624eb026>\u001b[0m in \u001b[0;36m<module>\u001b[0;34m()\u001b[0m\n\u001b[1;32m     12\u001b[0m   \u001b[0mnum_file\u001b[0m\u001b[0;34m.\u001b[0m\u001b[0mclose\u001b[0m\u001b[0;34m(\u001b[0m\u001b[0;34m)\u001b[0m\u001b[0;34m\u001b[0m\u001b[0;34m\u001b[0m\u001b[0m\n\u001b[1;32m     13\u001b[0m \u001b[0;34m\u001b[0m\u001b[0m\n\u001b[0;32m---> 14\u001b[0;31m \u001b[0mprint\u001b[0m\u001b[0;34m(\u001b[0m\u001b[0;34m'Average'\u001b[0m\u001b[0;34m,\u001b[0m\u001b[0mtotal\u001b[0m\u001b[0;34m/\u001b[0m\u001b[0mcount\u001b[0m\u001b[0;34m)\u001b[0m\u001b[0;34m\u001b[0m\u001b[0;34m\u001b[0m\u001b[0m\n\u001b[0m",
            "\u001b[0;31mNameError\u001b[0m: name 'total' is not defined"
          ]
        }
      ]
    },
    {
      "cell_type": "markdown",
      "metadata": {
        "id": "vjchCYETVwPx"
      },
      "source": [
        "**10. Random Number File Writer**<br>\n",
        "Write a program that writes a series of random numbers to a file. Each random number should be in the range of 1 \n",
        "through 500. The application should let the user specify how\n",
        "many random numbers the file will hold.\n"
      ]
    },
    {
      "cell_type": "code",
      "metadata": {
        "id": "DCyba_BZVxLF",
        "colab": {
          "base_uri": "https://localhost:8080/"
        },
        "outputId": "ba464c81-ce21-491c-bdc0-f21e8737c5e6"
      },
      "source": [
        "import random\n",
        "\n",
        "def main():\n",
        "  \n",
        "  num_random = int(input('how many numbers'))\n",
        " \n",
        "  num_file = open('num.txt', 'w')\n",
        "\n",
        "\n",
        "  for count in range(1, num_random + 1):\n",
        "    \n",
        "    num = random.randint(1,500)\n",
        "\n",
        "    \n",
        "    num_file.write(str(num) + '\\n')\n",
        "\n",
        "\n",
        "  num_file.close()\n",
        "  print('Data written to num.txt.')\n",
        "\n",
        "main()"
      ],
      "execution_count": 140,
      "outputs": [
        {
          "output_type": "stream",
          "text": [
            "how many numbers2\n",
            "Data written to num.txt.\n"
          ],
          "name": "stdout"
        }
      ]
    },
    {
      "cell_type": "code",
      "metadata": {
        "id": "uZ7CQJM0VxN5"
      },
      "source": [
        ""
      ],
      "execution_count": null,
      "outputs": []
    },
    {
      "cell_type": "markdown",
      "metadata": {
        "id": "p75ZKqbXWMdY"
      },
      "source": [
        "**11.  Exception Handing** <br>\n",
        "Modify the program that you wrote for Exercise 9 so it handles the following exceptions: <br>\n",
        "* It should handle any IOError exceptions that are raised when the file is opened and data\n",
        "is read from it. <br>\n",
        "* It should handle any ValueError exceptions that are raised when the items that are read from the file are converted to a number."
      ]
    },
    {
      "cell_type": "code",
      "metadata": {
        "id": "22SOHQbrVxRE",
        "colab": {
          "base_uri": "https://localhost:8080/",
          "height": 129
        },
        "outputId": "537b1a92-fac6-4b3e-ce02-d8efe2c710c1"
      },
      "source": [
        "# This program displays the total of the\n",
        "# amounts in the sales_data.txt file.\n",
        "\n",
        "def main():\n",
        "  # Initialize an accumulator.\n",
        "  total = 0.0\n",
        "\n",
        "  try: \n",
        "     num_random = int(input('how many numbers'))\n",
        " \n",
        "     num_file = open('num.txt', 'w')\n",
        "\n",
        "  for count in range(1, num_random + 1):\n",
        "    \n",
        "     num = random.randint(1,500)\n",
        "\n",
        "    \n",
        "     num_file.write(str(num) + '\\n')\n",
        "\n",
        "\n",
        "  num_file.close()\n",
        "  print('Data written to num.txt.')\n",
        "\n",
        "\n",
        "  except IOError:\n",
        "    print('An error occured trying to read the file.')\n",
        "\n",
        "  except ValueError:\n",
        "    print('Non-numeric data found in the file.')\n",
        "\n",
        "\n",
        "# Call the main function.\n",
        "main()"
      ],
      "execution_count": 141,
      "outputs": [
        {
          "output_type": "error",
          "ename": "SyntaxError",
          "evalue": "ignored",
          "traceback": [
            "\u001b[0;36m  File \u001b[0;32m\"<ipython-input-141-0ed4b9d78d7f>\"\u001b[0;36m, line \u001b[0;32m13\u001b[0m\n\u001b[0;31m    for count in range(1, num_random + 1):\u001b[0m\n\u001b[0m      ^\u001b[0m\n\u001b[0;31mSyntaxError\u001b[0m\u001b[0;31m:\u001b[0m invalid syntax\n"
          ]
        }
      ]
    },
    {
      "cell_type": "code",
      "metadata": {
        "id": "3p0MENR_WrBV"
      },
      "source": [
        ""
      ],
      "execution_count": null,
      "outputs": []
    }
  ]
}